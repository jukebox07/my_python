{
 "cells": [
  {
   "cell_type": "code",
   "execution_count": null,
   "metadata": {},
   "outputs": [],
   "source": [
    "# You will notice that we have and installed pytube3 by using the pip command, but we are importing pytube and not pytube3.\n",
    "# To eliminate confusion, pytube3 is also imported by writing only pytube. We don't import it by writing as pytube3.\n",
    "from pytube import YouTube"
   ]
  },
  {
   "cell_type": "code",
   "execution_count": 25,
   "metadata": {},
   "outputs": [
    {
     "name": "stdout",
     "output_type": "stream",
     "text": [
      "Enter link of youtube videohttps://www.youtube.com/watch?v=HKJDLXsTr8A&t=4693s\n"
     ]
    }
   ],
   "source": [
    "link=input('Enter link of youtube video')\n",
    "yt=YouTube(link)"
   ]
  },
  {
   "cell_type": "code",
   "execution_count": 26,
   "metadata": {},
   "outputs": [
    {
     "name": "stdout",
     "output_type": "stream",
     "text": [
      "Title : How to Create a Blog in Laravel | Laravel CRUD | Laravel Blog | Create a Blog in Laravel\n",
      "Views : 85867\n",
      "Duration : 5427\n",
      "Description : In this video we will be creating a complete blog with authentication in Laravel – Learn how to create a blog with authentication application in Laravel.\n",
      "\n",
      "Resources\n",
      "- Host Laravel projects:  https://www.cloudways.com/en/?id=918573\n",
      "- Instagram: https://www.instagram.com/codewithdary/\n",
      "- Twitter: https://twitter.com/codewithdary\n",
      "- GitHub: https://github.com/codewithdary/laravel-8-complete-blog\n",
      "- Patreon: https://www.patreon.com/user?u=30307830\n",
      "\n",
      "Coding Gear\n",
      "- MacBook Pro: https://amzn.to/3qTMnGi\n",
      "- Dell XPS: https://amzn.to/3Atp7Cm\n",
      "- LG 34WN650-W: https://amzn.to/3G0XMbS \n",
      "- Magic Trackpad 2: https://amzn.to/3Arp2ir\n",
      "- Magic Mouse 2: https://amzn.to/346k5zC\n",
      "- NAS: https://amzn.to/3rFf60U\n",
      "- Sandisk SSD: https://amzn.to/3fNHcBB\n",
      "- Rain Design Stand: https://amzn.to/3GTMeZ5\n",
      "\n",
      "Recording Gear\n",
      "- Rode NT-USB [Start]: https://amzn.to/3ApApXY\n",
      "- Shure SM7B [Advanced]: https://amzn.to/3Arj5lv\n",
      "- Rode PSA1: https://amzn.to/32pMCQ5\n",
      "- Focusrite Scarlett 2i2: https://amzn.to/3FYZD0t\n",
      "- XLR to XLR: https://amzn.to/3qVm2rC\n",
      "\n",
      "Useful links\n",
      "- Pictures: https://pixabay.com/\n",
      "- Laravel course: https://www.youtube.com/playlist?list=PLFHz2csJcgk_3VJwzVoeyMuC1rdBcfiLv\n",
      "\n",
      "Want to learn more? \n",
      "- Courses: https://www.youtube.com/channel/UCkzGZ6ECGCBh0WK9bVUprtw/playlists\n",
      "\n",
      "Table of Content\n",
      "00:00 - Introduction\n",
      "01:09 - Artisan, PHP and Node version\n",
      "02:09 - Setting up our Tailwindcss\n",
      "04:37 - Setting up our database credentials\n",
      "05:23 - Creating our controllers & models\n",
      "11:53 - Designing our home page\n",
      "30:20 - Designing the Blog page\n",
      "34:29 - Brainstorming about all endpoints\n",
      "37:13 - Setting up our database\n",
      "43:07 - Index method \n",
      "49:51 - Creating & storing a post\n",
      "01:13:47 - Showing a post\n",
      "01:17:36 - Editing & updating a post\n",
      "01:24:28 - Deleting a post\n",
      "\n",
      "#laravel #blog #project\n",
      "Ratings :  None\n"
     ]
    }
   ],
   "source": [
    "# Now, as we have taken the link of a youtube video as an input, we will run the program while scraping some information about the video. Now, I will write some necessary functions that we can use for scraping youtube with python by using pytube \n",
    "# module:\n",
    "# To print title\n",
    "print(\"Title :\", yt.title)\n",
    "# To get number of views\n",
    "print(\"Views :\", yt.views)\n",
    "# To get the length of video\n",
    "print(\"Duration :\", yt.length)\n",
    "# To get description\n",
    "print(\"Description :\", yt.description)\n",
    "# To get ratings\n",
    "print(\"Ratings : \", yt.rating)"
   ]
  },
  {
   "cell_type": "code",
   "execution_count": 27,
   "metadata": {},
   "outputs": [
    {
     "name": "stdout",
     "output_type": "stream",
     "text": [
      "Download completed!!\n"
     ]
    }
   ],
   "source": [
    "# The task of scraping youtube with python will be left incomplete if we do not know how to download the youtube video. \n",
    "# It's obvious that we are more considered about the data, but still, if you want to see how we can download the youtube \n",
    "# video using python then you can use the code below:\n",
    "\n",
    "stream = yt.streams.get_highest_resolution()\n",
    "stream.download()\n",
    "print(\"Download completed!!\")"
   ]
  },
  {
   "cell_type": "code",
   "execution_count": 10,
   "metadata": {},
   "outputs": [
    {
     "name": "stderr",
     "output_type": "stream",
     "text": [
      "C:\\Users\\User\\anaconda3\\lib\\site-packages\\win_unicode_console\\__init__.py:31: RuntimeWarning: sys.stdin.encoding == 'cp1252', whereas sys.stdout.encoding == 'UTF-8', readline hook consumer may assume they are the same\n",
      "  readline_hook.enable(use_pyreadline=use_pyreadline)\n"
     ]
    }
   ],
   "source": [
    "import instaloader as inst"
   ]
  },
  {
   "cell_type": "code",
   "execution_count": 11,
   "metadata": {},
   "outputs": [
    {
     "name": "stdout",
     "output_type": "stream",
     "text": [
      "<class 'instaloader.structures.Profile'>\n",
      "<Profile gizzy_9 (2983978766)>\n"
     ]
    }
   ],
   "source": [
    "# Create an instance of Instaloader class\n",
    "bot = inst.Instaloader()\n",
    "\n",
    "# Load a profile from an Instagram handle\n",
    "profile = inst.Profile.from_username(bot.context, 'gizzy_9')\n",
    "print(type(profile))\n",
    "print(profile)"
   ]
  },
  {
   "cell_type": "code",
   "execution_count": 12,
   "metadata": {},
   "outputs": [
    {
     "name": "stdout",
     "output_type": "stream",
     "text": [
      "Username:  gizzy_9\n",
      "User ID:  2983978766\n",
      "Number of Posts:  20\n",
      "Followers:  265\n",
      "Followees:  338\n",
      "Bio:   None\n"
     ]
    }
   ],
   "source": [
    "# Now let's see how we can extract some valuable information from an Instagram profile:\n",
    "\n",
    "print(\"Username: \", profile.username)\n",
    "print(\"User ID: \", profile.userid)\n",
    "print(\"Number of Posts: \", profile.mediacount)\n",
    "print(\"Followers: \", profile.followers)\n",
    "print(\"Followees: \", profile.followees)\n",
    "print(\"Bio: \", profile.biography,profile.external_url)"
   ]
  },
  {
   "cell_type": "code",
   "execution_count": 19,
   "metadata": {},
   "outputs": [
    {
     "ename": "ConnectionException",
     "evalue": "Login error: \"fail\" status, message \"There was an error with your request. Please try again.\".",
     "output_type": "error",
     "traceback": [
      "\u001b[1;31m---------------------------------------------------------------------------\u001b[0m",
      "\u001b[1;31mConnectionException\u001b[0m                       Traceback (most recent call last)",
      "\u001b[1;32m<ipython-input-19-d9427d386c3d>\u001b[0m in \u001b[0;36m<module>\u001b[1;34m\u001b[0m\n\u001b[0;32m      1\u001b[0m \u001b[1;31m# Login with username and password in the script\u001b[0m\u001b[1;33m\u001b[0m\u001b[1;33m\u001b[0m\u001b[1;33m\u001b[0m\u001b[0m\n\u001b[1;32m----> 2\u001b[1;33m \u001b[0mbot\u001b[0m\u001b[1;33m.\u001b[0m\u001b[0mlogin\u001b[0m\u001b[1;33m(\u001b[0m\u001b[0muser\u001b[0m\u001b[1;33m=\u001b[0m\u001b[1;34m\"gizzy_9\"\u001b[0m\u001b[1;33m,\u001b[0m\u001b[0mpasswd\u001b[0m\u001b[1;33m=\u001b[0m\u001b[1;34m\"\"\u001b[0m\u001b[1;33m)\u001b[0m\u001b[1;33m\u001b[0m\u001b[1;33m\u001b[0m\u001b[0m\n\u001b[0m",
      "\u001b[1;32m~\\anaconda3\\lib\\site-packages\\instaloader\\instaloader.py\u001b[0m in \u001b[0;36mlogin\u001b[1;34m(self, user, passwd)\u001b[0m\n\u001b[0;32m    599\u001b[0m         \u001b[1;33m:\u001b[0m\u001b[0mraises\u001b[0m \u001b[0mTwoFactorAuthRequiredException\u001b[0m\u001b[1;33m:\u001b[0m \u001b[0mFirst\u001b[0m \u001b[0mstep\u001b[0m \u001b[0mof\u001b[0m \u001b[1;36m2\u001b[0m\u001b[0mFA\u001b[0m \u001b[0mlogin\u001b[0m \u001b[0mdone\u001b[0m\u001b[1;33m,\u001b[0m \u001b[0mnow\u001b[0m \u001b[0mcall\u001b[0m\u001b[1;33m\u001b[0m\u001b[1;33m\u001b[0m\u001b[0m\n\u001b[0;32m    600\u001b[0m            :meth:`Instaloader.two_factor_login`.\"\"\"\n\u001b[1;32m--> 601\u001b[1;33m         \u001b[0mself\u001b[0m\u001b[1;33m.\u001b[0m\u001b[0mcontext\u001b[0m\u001b[1;33m.\u001b[0m\u001b[0mlogin\u001b[0m\u001b[1;33m(\u001b[0m\u001b[0muser\u001b[0m\u001b[1;33m,\u001b[0m \u001b[0mpasswd\u001b[0m\u001b[1;33m)\u001b[0m\u001b[1;33m\u001b[0m\u001b[1;33m\u001b[0m\u001b[0m\n\u001b[0m\u001b[0;32m    602\u001b[0m \u001b[1;33m\u001b[0m\u001b[0m\n\u001b[0;32m    603\u001b[0m     \u001b[1;32mdef\u001b[0m \u001b[0mtwo_factor_login\u001b[0m\u001b[1;33m(\u001b[0m\u001b[0mself\u001b[0m\u001b[1;33m,\u001b[0m \u001b[0mtwo_factor_code\u001b[0m\u001b[1;33m)\u001b[0m \u001b[1;33m->\u001b[0m \u001b[1;32mNone\u001b[0m\u001b[1;33m:\u001b[0m\u001b[1;33m\u001b[0m\u001b[1;33m\u001b[0m\u001b[0m\n",
      "\u001b[1;32m~\\anaconda3\\lib\\site-packages\\instaloader\\instaloadercontext.py\u001b[0m in \u001b[0;36mlogin\u001b[1;34m(self, user, passwd)\u001b[0m\n\u001b[0;32m    242\u001b[0m         \u001b[1;32mif\u001b[0m \u001b[0mresp_json\u001b[0m\u001b[1;33m[\u001b[0m\u001b[1;34m'status'\u001b[0m\u001b[1;33m]\u001b[0m \u001b[1;33m!=\u001b[0m \u001b[1;34m'ok'\u001b[0m\u001b[1;33m:\u001b[0m\u001b[1;33m\u001b[0m\u001b[1;33m\u001b[0m\u001b[0m\n\u001b[0;32m    243\u001b[0m             \u001b[1;32mif\u001b[0m \u001b[1;34m'message'\u001b[0m \u001b[1;32min\u001b[0m \u001b[0mresp_json\u001b[0m\u001b[1;33m:\u001b[0m\u001b[1;33m\u001b[0m\u001b[1;33m\u001b[0m\u001b[0m\n\u001b[1;32m--> 244\u001b[1;33m                 raise ConnectionException(\"Login error: \\\"{}\\\" status, message \\\"{}\\\".\".format(resp_json['status'],\n\u001b[0m\u001b[0;32m    245\u001b[0m                                                                                                resp_json['message']))\n\u001b[0;32m    246\u001b[0m             \u001b[1;32melse\u001b[0m\u001b[1;33m:\u001b[0m\u001b[1;33m\u001b[0m\u001b[1;33m\u001b[0m\u001b[0m\n",
      "\u001b[1;31mConnectionException\u001b[0m: Login error: \"fail\" status, message \"There was an error with your request. Please try again.\"."
     ]
    }
   ],
   "source": [
    "# Login with username and password in the script\n",
    "bot.login(user=\"gizzy_9\",passwd=\"\")"
   ]
  },
  {
   "cell_type": "code",
   "execution_count": 1,
   "metadata": {},
   "outputs": [
    {
     "name": "stderr",
     "output_type": "stream",
     "text": [
      "C:\\Users\\User\\anaconda3\\lib\\site-packages\\requests\\__init__.py:89: RequestsDependencyWarning: urllib3 (1.26.8) or chardet (3.0.4) doesn't match a supported version!\n",
      "  warnings.warn(\"urllib3 ({}) or chardet ({}) doesn't match a supported \"\n"
     ]
    }
   ],
   "source": [
    "import twint\n",
    "import pandas as pd\n",
    "from collections import Counter"
   ]
  },
  {
   "cell_type": "code",
   "execution_count": 2,
   "metadata": {},
   "outputs": [],
   "source": [
    "# After importing the necessary libraries, now we need to start by creating a user list consisting of Twitter accounts. \n",
    "# We will analyze the relationships between the Twitter accounts of these people that I will add in the list below:\n",
    "\n",
    "users = [\n",
    "    'segalink',\n",
    "    'Dr dipo'\n",
    "]"
   ]
  },
  {
   "cell_type": "code",
   "execution_count": 3,
   "metadata": {},
   "outputs": [],
   "source": [
    "# Scraping Twitter with Python and Analyzing Relationships\n",
    "# Now let's start by scraping Twitter with python and to analyze the relationships between all the Twitter accounts in our\n",
    "# list above, I'll write a function named get_followings which will send a request to the twint library with a username. \n",
    "# This function will return a list of users that our input user follows:\n",
    "\n",
    "def get_followings(username):\n",
    "\n",
    "    c = twint.Config()\n",
    "    c.Username = username\n",
    "    c.Pandas = True\n",
    "\n",
    "    twint.run.Following(c)\n",
    "    list_of_followings = twint.storage.panda.Follow_df\n",
    "\n",
    "    return list_of_followings['following'][username]"
   ]
  },
  {
   "cell_type": "code",
   "execution_count": 4,
   "metadata": {},
   "outputs": [
    {
     "name": "stdout",
     "output_type": "stream",
     "text": [
      "#####\n",
      "Starting: segalink\n",
      "#####\n"
     ]
    },
    {
     "ename": "RuntimeError",
     "evalue": "This event loop is already running",
     "output_type": "error",
     "traceback": [
      "\u001b[1;31m---------------------------------------------------------------------------\u001b[0m",
      "\u001b[1;31mRuntimeError\u001b[0m                              Traceback (most recent call last)",
      "\u001b[1;32m<ipython-input-4-b7a9a08f70d3>\u001b[0m in \u001b[0;36m<module>\u001b[1;34m\u001b[0m\n\u001b[0;32m      7\u001b[0m     \u001b[0mprint\u001b[0m\u001b[1;33m(\u001b[0m\u001b[1;34m'#####\\nStarting: '\u001b[0m \u001b[1;33m+\u001b[0m \u001b[0mperson\u001b[0m \u001b[1;33m+\u001b[0m \u001b[1;34m'\\n#####'\u001b[0m\u001b[1;33m)\u001b[0m\u001b[1;33m\u001b[0m\u001b[1;33m\u001b[0m\u001b[0m\n\u001b[0;32m      8\u001b[0m     \u001b[1;32mtry\u001b[0m\u001b[1;33m:\u001b[0m\u001b[1;33m\u001b[0m\u001b[1;33m\u001b[0m\u001b[0m\n\u001b[1;32m----> 9\u001b[1;33m         \u001b[0mfollowings\u001b[0m\u001b[1;33m[\u001b[0m\u001b[0mperson\u001b[0m\u001b[1;33m]\u001b[0m \u001b[1;33m=\u001b[0m \u001b[0mget_followings\u001b[0m\u001b[1;33m(\u001b[0m\u001b[0mperson\u001b[0m\u001b[1;33m)\u001b[0m\u001b[1;33m\u001b[0m\u001b[1;33m\u001b[0m\u001b[0m\n\u001b[0m\u001b[0;32m     10\u001b[0m         \u001b[0mfollowing_list\u001b[0m \u001b[1;33m=\u001b[0m \u001b[0mfollowing_list\u001b[0m \u001b[1;33m+\u001b[0m \u001b[0mfollowings\u001b[0m\u001b[1;33m[\u001b[0m\u001b[0mperson\u001b[0m\u001b[1;33m]\u001b[0m\u001b[1;33m\u001b[0m\u001b[1;33m\u001b[0m\u001b[0m\n\u001b[0;32m     11\u001b[0m     \u001b[1;32mexcept\u001b[0m \u001b[0mKeyError\u001b[0m\u001b[1;33m:\u001b[0m\u001b[1;33m\u001b[0m\u001b[1;33m\u001b[0m\u001b[0m\n",
      "\u001b[1;32m<ipython-input-3-bb1c2dee199d>\u001b[0m in \u001b[0;36mget_followings\u001b[1;34m(username)\u001b[0m\n\u001b[0;32m     10\u001b[0m     \u001b[0mc\u001b[0m\u001b[1;33m.\u001b[0m\u001b[0mPandas\u001b[0m \u001b[1;33m=\u001b[0m \u001b[1;32mTrue\u001b[0m\u001b[1;33m\u001b[0m\u001b[1;33m\u001b[0m\u001b[0m\n\u001b[0;32m     11\u001b[0m \u001b[1;33m\u001b[0m\u001b[0m\n\u001b[1;32m---> 12\u001b[1;33m     \u001b[0mtwint\u001b[0m\u001b[1;33m.\u001b[0m\u001b[0mrun\u001b[0m\u001b[1;33m.\u001b[0m\u001b[0mFollowing\u001b[0m\u001b[1;33m(\u001b[0m\u001b[0mc\u001b[0m\u001b[1;33m)\u001b[0m\u001b[1;33m\u001b[0m\u001b[1;33m\u001b[0m\u001b[0m\n\u001b[0m\u001b[0;32m     13\u001b[0m     \u001b[0mlist_of_followings\u001b[0m \u001b[1;33m=\u001b[0m \u001b[0mtwint\u001b[0m\u001b[1;33m.\u001b[0m\u001b[0mstorage\u001b[0m\u001b[1;33m.\u001b[0m\u001b[0mpanda\u001b[0m\u001b[1;33m.\u001b[0m\u001b[0mFollow_df\u001b[0m\u001b[1;33m\u001b[0m\u001b[1;33m\u001b[0m\u001b[0m\n\u001b[0;32m     14\u001b[0m \u001b[1;33m\u001b[0m\u001b[0m\n",
      "\u001b[1;32m~\\anaconda3\\lib\\site-packages\\twint\\run.py\u001b[0m in \u001b[0;36mFollowing\u001b[1;34m(config)\u001b[0m\n\u001b[0;32m    263\u001b[0m     \u001b[0mconfig\u001b[0m\u001b[1;33m.\u001b[0m\u001b[0mFavorites\u001b[0m \u001b[1;33m=\u001b[0m \u001b[1;32mFalse\u001b[0m\u001b[1;33m\u001b[0m\u001b[1;33m\u001b[0m\u001b[0m\n\u001b[0;32m    264\u001b[0m     \u001b[0mconfig\u001b[0m\u001b[1;33m.\u001b[0m\u001b[0mTwitterSearch\u001b[0m \u001b[1;33m=\u001b[0m \u001b[1;32mFalse\u001b[0m\u001b[1;33m\u001b[0m\u001b[1;33m\u001b[0m\u001b[0m\n\u001b[1;32m--> 265\u001b[1;33m     \u001b[0mrun\u001b[0m\u001b[1;33m(\u001b[0m\u001b[0mconfig\u001b[0m\u001b[1;33m)\u001b[0m\u001b[1;33m\u001b[0m\u001b[1;33m\u001b[0m\u001b[0m\n\u001b[0m\u001b[0;32m    266\u001b[0m     \u001b[1;32mif\u001b[0m \u001b[0mconfig\u001b[0m\u001b[1;33m.\u001b[0m\u001b[0mPandas_au\u001b[0m\u001b[1;33m:\u001b[0m\u001b[1;33m\u001b[0m\u001b[1;33m\u001b[0m\u001b[0m\n\u001b[0;32m    267\u001b[0m         \u001b[0mstorage\u001b[0m\u001b[1;33m.\u001b[0m\u001b[0mpanda\u001b[0m\u001b[1;33m.\u001b[0m\u001b[0m_autoget\u001b[0m\u001b[1;33m(\u001b[0m\u001b[1;34m\"following\"\u001b[0m\u001b[1;33m)\u001b[0m\u001b[1;33m\u001b[0m\u001b[1;33m\u001b[0m\u001b[0m\n",
      "\u001b[1;32m~\\anaconda3\\lib\\site-packages\\twint\\run.py\u001b[0m in \u001b[0;36mrun\u001b[1;34m(config, callback)\u001b[0m\n\u001b[0;32m    224\u001b[0m         \u001b[1;32mraise\u001b[0m\u001b[1;33m\u001b[0m\u001b[1;33m\u001b[0m\u001b[0m\n\u001b[0;32m    225\u001b[0m \u001b[1;33m\u001b[0m\u001b[0m\n\u001b[1;32m--> 226\u001b[1;33m     \u001b[0mget_event_loop\u001b[0m\u001b[1;33m(\u001b[0m\u001b[1;33m)\u001b[0m\u001b[1;33m.\u001b[0m\u001b[0mrun_until_complete\u001b[0m\u001b[1;33m(\u001b[0m\u001b[0mTwint\u001b[0m\u001b[1;33m(\u001b[0m\u001b[0mconfig\u001b[0m\u001b[1;33m)\u001b[0m\u001b[1;33m.\u001b[0m\u001b[0mmain\u001b[0m\u001b[1;33m(\u001b[0m\u001b[0mcallback\u001b[0m\u001b[1;33m)\u001b[0m\u001b[1;33m)\u001b[0m\u001b[1;33m\u001b[0m\u001b[1;33m\u001b[0m\u001b[0m\n\u001b[0m\u001b[0;32m    227\u001b[0m \u001b[1;33m\u001b[0m\u001b[0m\n\u001b[0;32m    228\u001b[0m \u001b[1;32mdef\u001b[0m \u001b[0mFavorites\u001b[0m\u001b[1;33m(\u001b[0m\u001b[0mconfig\u001b[0m\u001b[1;33m)\u001b[0m\u001b[1;33m:\u001b[0m\u001b[1;33m\u001b[0m\u001b[1;33m\u001b[0m\u001b[0m\n",
      "\u001b[1;32m~\\anaconda3\\lib\\asyncio\\base_events.py\u001b[0m in \u001b[0;36mrun_until_complete\u001b[1;34m(self, future)\u001b[0m\n\u001b[0;32m    590\u001b[0m         \"\"\"\n\u001b[0;32m    591\u001b[0m         \u001b[0mself\u001b[0m\u001b[1;33m.\u001b[0m\u001b[0m_check_closed\u001b[0m\u001b[1;33m(\u001b[0m\u001b[1;33m)\u001b[0m\u001b[1;33m\u001b[0m\u001b[1;33m\u001b[0m\u001b[0m\n\u001b[1;32m--> 592\u001b[1;33m         \u001b[0mself\u001b[0m\u001b[1;33m.\u001b[0m\u001b[0m_check_running\u001b[0m\u001b[1;33m(\u001b[0m\u001b[1;33m)\u001b[0m\u001b[1;33m\u001b[0m\u001b[1;33m\u001b[0m\u001b[0m\n\u001b[0m\u001b[0;32m    593\u001b[0m \u001b[1;33m\u001b[0m\u001b[0m\n\u001b[0;32m    594\u001b[0m         \u001b[0mnew_task\u001b[0m \u001b[1;33m=\u001b[0m \u001b[1;32mnot\u001b[0m \u001b[0mfutures\u001b[0m\u001b[1;33m.\u001b[0m\u001b[0misfuture\u001b[0m\u001b[1;33m(\u001b[0m\u001b[0mfuture\u001b[0m\u001b[1;33m)\u001b[0m\u001b[1;33m\u001b[0m\u001b[1;33m\u001b[0m\u001b[0m\n",
      "\u001b[1;32m~\\anaconda3\\lib\\asyncio\\base_events.py\u001b[0m in \u001b[0;36m_check_running\u001b[1;34m(self)\u001b[0m\n\u001b[0;32m    550\u001b[0m     \u001b[1;32mdef\u001b[0m \u001b[0m_check_running\u001b[0m\u001b[1;33m(\u001b[0m\u001b[0mself\u001b[0m\u001b[1;33m)\u001b[0m\u001b[1;33m:\u001b[0m\u001b[1;33m\u001b[0m\u001b[1;33m\u001b[0m\u001b[0m\n\u001b[0;32m    551\u001b[0m         \u001b[1;32mif\u001b[0m \u001b[0mself\u001b[0m\u001b[1;33m.\u001b[0m\u001b[0mis_running\u001b[0m\u001b[1;33m(\u001b[0m\u001b[1;33m)\u001b[0m\u001b[1;33m:\u001b[0m\u001b[1;33m\u001b[0m\u001b[1;33m\u001b[0m\u001b[0m\n\u001b[1;32m--> 552\u001b[1;33m             \u001b[1;32mraise\u001b[0m \u001b[0mRuntimeError\u001b[0m\u001b[1;33m(\u001b[0m\u001b[1;34m'This event loop is already running'\u001b[0m\u001b[1;33m)\u001b[0m\u001b[1;33m\u001b[0m\u001b[1;33m\u001b[0m\u001b[0m\n\u001b[0m\u001b[0;32m    553\u001b[0m         \u001b[1;32mif\u001b[0m \u001b[0mevents\u001b[0m\u001b[1;33m.\u001b[0m\u001b[0m_get_running_loop\u001b[0m\u001b[1;33m(\u001b[0m\u001b[1;33m)\u001b[0m \u001b[1;32mis\u001b[0m \u001b[1;32mnot\u001b[0m \u001b[1;32mNone\u001b[0m\u001b[1;33m:\u001b[0m\u001b[1;33m\u001b[0m\u001b[1;33m\u001b[0m\u001b[0m\n\u001b[0;32m    554\u001b[0m             raise RuntimeError(\n",
      "\u001b[1;31mRuntimeError\u001b[0m: This event loop is already running"
     ]
    }
   ],
   "source": [
    "# The for loop below will create two variables, as sometimes we get index error when Twitter does not respond to our \n",
    "# request. For such cases, I added an exception to the code to ignore these users:\n",
    "\n",
    "followings = {}\n",
    "following_list = []\n",
    "for person in users:\n",
    "    print('#####\\nStarting: ' + person + '\\n#####')\n",
    "    try:\n",
    "        followings[person] = get_followings(person)\n",
    "        following_list = following_list + followings[person]\n",
    "    except KeyError:\n",
    "        print('IndexError')"
   ]
  },
  {
   "cell_type": "code",
   "execution_count": null,
   "metadata": {},
   "outputs": [],
   "source": []
  }
 ],
 "metadata": {
  "kernelspec": {
   "display_name": "Python 3",
   "language": "python",
   "name": "python3"
  },
  "language_info": {
   "codemirror_mode": {
    "name": "ipython",
    "version": 3
   },
   "file_extension": ".py",
   "mimetype": "text/x-python",
   "name": "python",
   "nbconvert_exporter": "python",
   "pygments_lexer": "ipython3",
   "version": "3.8.5"
  }
 },
 "nbformat": 4,
 "nbformat_minor": 4
}
