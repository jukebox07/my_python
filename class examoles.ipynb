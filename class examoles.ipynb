{
 "cells": [
  {
   "cell_type": "code",
   "execution_count": 1,
   "metadata": {},
   "outputs": [],
   "source": [
    "import numpy as np"
   ]
  },
  {
   "cell_type": "code",
   "execution_count": 2,
   "metadata": {},
   "outputs": [
    {
     "data": {
      "text/plain": [
       "array([ 0,  1,  2,  3,  4,  5,  6,  7,  8,  9, 10, 11, 12, 13, 14, 15, 16,\n",
       "       17, 18, 19, 20, 21, 22, 23, 24, 25, 26, 27, 28, 29, 30, 31, 32, 33,\n",
       "       34, 35, 36, 37, 38, 39, 40, 41, 42, 43, 44, 45, 46, 47, 48, 49])"
      ]
     },
     "execution_count": 2,
     "metadata": {},
     "output_type": "execute_result"
    }
   ],
   "source": [
    " d=np.arange(50)\n",
    " d"
   ]
  },
  {
   "cell_type": "code",
   "execution_count": 3,
   "metadata": {},
   "outputs": [
    {
     "data": {
      "text/plain": [
       "array([[0.39230544, 0.54541078, 0.85545289, 0.37353128, 0.55216725],\n",
       "       [0.94659306, 0.99010294, 0.2671497 , 0.19985078, 0.75748327],\n",
       "       [0.59442726, 0.15904507, 0.17796142, 0.92700414, 0.57132465],\n",
       "       [0.83150344, 0.24090657, 0.53729878, 0.42985679, 0.99951333]])"
      ]
     },
     "execution_count": 3,
     "metadata": {},
     "output_type": "execute_result"
    }
   ],
   "source": [
    "a=np.random.random((4,5))\n",
    "a"
   ]
  },
  {
   "cell_type": "code",
   "execution_count": 4,
   "metadata": {},
   "outputs": [
    {
     "data": {
      "text/plain": [
       "2"
      ]
     },
     "execution_count": 4,
     "metadata": {},
     "output_type": "execute_result"
    }
   ],
   "source": [
    "a.ndim"
   ]
  },
  {
   "cell_type": "code",
   "execution_count": 5,
   "metadata": {},
   "outputs": [
    {
     "name": "stdout",
     "output_type": "stream",
     "text": [
      "the first split\n",
      " [[0.39230544 0.54541078 0.85545289 0.37353128 0.55216725]\n",
      " [0.94659306 0.99010294 0.2671497  0.19985078 0.75748327]]\n",
      "the second split\n",
      " [[0.59442726 0.15904507 0.17796142 0.92700414 0.57132465]]\n",
      "the third split\n",
      " [[0.83150344 0.24090657 0.53729878 0.42985679 0.99951333]]\n"
     ]
    }
   ],
   "source": [
    "first, second,third = np.vsplit(a, [2,3])\n",
    "print(\"the first split\\n\",first)\n",
    "print(\"the second split\\n\",second)\n",
    "print(\"the third split\\n\",third)"
   ]
  },
  {
   "cell_type": "code",
   "execution_count": 6,
   "metadata": {},
   "outputs": [
    {
     "name": "stdout",
     "output_type": "stream",
     "text": [
      "[ 0  1  2  3  4  5  6  7  8  9 10 11 12 13 14] [15 16 17 18 19 20 21 22 23 24 25 26 27 28 29] [30 31 32 33 34 35 36 37 38 39 40 41 42 43 44 45 46 47 48 49]\n"
     ]
    }
   ],
   "source": [
    "x1, x2, x3 = np.split(d, (15,30))\n",
    "print(x1,x2,x3)"
   ]
  },
  {
   "cell_type": "code",
   "execution_count": 7,
   "metadata": {},
   "outputs": [
    {
     "name": "stderr",
     "output_type": "stream",
     "text": [
      "<ipython-input-7-86ed2d344638>:1: VisibleDeprecationWarning: Creating an ndarray from ragged nested sequences (which is a list-or-tuple of lists-or-tuples-or ndarrays with different lengths or shapes) is deprecated. If you meant to do this, you must specify 'dtype=object' when creating the ndarray\n",
      "  np.array([[1,2,3,4,5],[6,7,8,9,10],[11,12,13,14,15],[17,]])\n"
     ]
    },
    {
     "data": {
      "text/plain": [
       "array([list([1, 2, 3, 4, 5]), list([6, 7, 8, 9, 10]),\n",
       "       list([11, 12, 13, 14, 15]), list([17])], dtype=object)"
      ]
     },
     "execution_count": 7,
     "metadata": {},
     "output_type": "execute_result"
    }
   ],
   "source": [
    "np.array([[1,2,3,4,5],[6,7,8,9,10],[11,12,13,14,15],[17,]])"
   ]
  },
  {
   "cell_type": "code",
   "execution_count": 8,
   "metadata": {},
   "outputs": [
    {
     "data": {
      "text/html": [
       "<div>\n",
       "<style scoped>\n",
       "    .dataframe tbody tr th:only-of-type {\n",
       "        vertical-align: middle;\n",
       "    }\n",
       "\n",
       "    .dataframe tbody tr th {\n",
       "        vertical-align: top;\n",
       "    }\n",
       "\n",
       "    .dataframe thead th {\n",
       "        text-align: right;\n",
       "    }\n",
       "</style>\n",
       "<table border=\"1\" class=\"dataframe\">\n",
       "  <thead>\n",
       "    <tr style=\"text-align: right;\">\n",
       "      <th></th>\n",
       "      <th>STATION</th>\n",
       "      <th>STATION_NAME</th>\n",
       "      <th>DATE</th>\n",
       "      <th>PRCP</th>\n",
       "      <th>SNWD</th>\n",
       "      <th>SNOW</th>\n",
       "      <th>TMAX</th>\n",
       "      <th>TMIN</th>\n",
       "      <th>AWND</th>\n",
       "      <th>WDF2</th>\n",
       "      <th>WDF5</th>\n",
       "      <th>WSF2</th>\n",
       "      <th>WSF5</th>\n",
       "      <th>WT01</th>\n",
       "      <th>WT05</th>\n",
       "      <th>WT02</th>\n",
       "      <th>WT03</th>\n",
       "    </tr>\n",
       "  </thead>\n",
       "  <tbody>\n",
       "    <tr>\n",
       "      <th>0</th>\n",
       "      <td>NaN</td>\n",
       "      <td>NaN</td>\n",
       "      <td>NaN</td>\n",
       "      <td>NaN</td>\n",
       "      <td>NaN</td>\n",
       "      <td>NaN</td>\n",
       "      <td>NaN</td>\n",
       "      <td>NaN</td>\n",
       "      <td>NaN</td>\n",
       "      <td>NaN</td>\n",
       "      <td>NaN</td>\n",
       "      <td>NaN</td>\n",
       "      <td>NaN</td>\n",
       "      <td>NaN</td>\n",
       "      <td>NaN</td>\n",
       "      <td>NaN</td>\n",
       "      <td>NaN</td>\n",
       "    </tr>\n",
       "    <tr>\n",
       "      <th>1</th>\n",
       "      <td>GHCND:USW00024233</td>\n",
       "      <td>SEATTLE TACOMA INTERNATIONAL AIRPORT WA US</td>\n",
       "      <td>20140101.0</td>\n",
       "      <td>0.0</td>\n",
       "      <td>0.0</td>\n",
       "      <td>0.0</td>\n",
       "      <td>72.0</td>\n",
       "      <td>33.0</td>\n",
       "      <td>12.0</td>\n",
       "      <td>340.0</td>\n",
       "      <td>310.0</td>\n",
       "      <td>36.0</td>\n",
       "      <td>40.0</td>\n",
       "      <td>-9999.0</td>\n",
       "      <td>-9999.0</td>\n",
       "      <td>-9999.0</td>\n",
       "      <td>-9999.0</td>\n",
       "    </tr>\n",
       "    <tr>\n",
       "      <th>2</th>\n",
       "      <td>NaN</td>\n",
       "      <td>NaN</td>\n",
       "      <td>NaN</td>\n",
       "      <td>NaN</td>\n",
       "      <td>NaN</td>\n",
       "      <td>NaN</td>\n",
       "      <td>NaN</td>\n",
       "      <td>NaN</td>\n",
       "      <td>NaN</td>\n",
       "      <td>NaN</td>\n",
       "      <td>NaN</td>\n",
       "      <td>NaN</td>\n",
       "      <td>NaN</td>\n",
       "      <td>NaN</td>\n",
       "      <td>NaN</td>\n",
       "      <td>NaN</td>\n",
       "      <td>NaN</td>\n",
       "    </tr>\n",
       "    <tr>\n",
       "      <th>3</th>\n",
       "      <td>GHCND:USW00024233</td>\n",
       "      <td>SEATTLE TACOMA INTERNATIONAL AIRPORT WA US</td>\n",
       "      <td>20140102.0</td>\n",
       "      <td>41.0</td>\n",
       "      <td>0.0</td>\n",
       "      <td>0.0</td>\n",
       "      <td>106.0</td>\n",
       "      <td>61.0</td>\n",
       "      <td>32.0</td>\n",
       "      <td>190.0</td>\n",
       "      <td>200.0</td>\n",
       "      <td>94.0</td>\n",
       "      <td>116.0</td>\n",
       "      <td>-9999.0</td>\n",
       "      <td>-9999.0</td>\n",
       "      <td>-9999.0</td>\n",
       "      <td>-9999.0</td>\n",
       "    </tr>\n",
       "    <tr>\n",
       "      <th>4</th>\n",
       "      <td>NaN</td>\n",
       "      <td>NaN</td>\n",
       "      <td>NaN</td>\n",
       "      <td>NaN</td>\n",
       "      <td>NaN</td>\n",
       "      <td>NaN</td>\n",
       "      <td>NaN</td>\n",
       "      <td>NaN</td>\n",
       "      <td>NaN</td>\n",
       "      <td>NaN</td>\n",
       "      <td>NaN</td>\n",
       "      <td>NaN</td>\n",
       "      <td>NaN</td>\n",
       "      <td>NaN</td>\n",
       "      <td>NaN</td>\n",
       "      <td>NaN</td>\n",
       "      <td>NaN</td>\n",
       "    </tr>\n",
       "    <tr>\n",
       "      <th>...</th>\n",
       "      <td>...</td>\n",
       "      <td>...</td>\n",
       "      <td>...</td>\n",
       "      <td>...</td>\n",
       "      <td>...</td>\n",
       "      <td>...</td>\n",
       "      <td>...</td>\n",
       "      <td>...</td>\n",
       "      <td>...</td>\n",
       "      <td>...</td>\n",
       "      <td>...</td>\n",
       "      <td>...</td>\n",
       "      <td>...</td>\n",
       "      <td>...</td>\n",
       "      <td>...</td>\n",
       "      <td>...</td>\n",
       "      <td>...</td>\n",
       "    </tr>\n",
       "    <tr>\n",
       "      <th>725</th>\n",
       "      <td>GHCND:USW00024233</td>\n",
       "      <td>SEATTLE TACOMA INTERNATIONAL AIRPORT WA US</td>\n",
       "      <td>20141229.0</td>\n",
       "      <td>0.0</td>\n",
       "      <td>0.0</td>\n",
       "      <td>0.0</td>\n",
       "      <td>61.0</td>\n",
       "      <td>6.0</td>\n",
       "      <td>43.0</td>\n",
       "      <td>350.0</td>\n",
       "      <td>350.0</td>\n",
       "      <td>76.0</td>\n",
       "      <td>103.0</td>\n",
       "      <td>1.0</td>\n",
       "      <td>-9999.0</td>\n",
       "      <td>-9999.0</td>\n",
       "      <td>-9999.0</td>\n",
       "    </tr>\n",
       "    <tr>\n",
       "      <th>726</th>\n",
       "      <td>NaN</td>\n",
       "      <td>NaN</td>\n",
       "      <td>NaN</td>\n",
       "      <td>NaN</td>\n",
       "      <td>NaN</td>\n",
       "      <td>NaN</td>\n",
       "      <td>NaN</td>\n",
       "      <td>NaN</td>\n",
       "      <td>NaN</td>\n",
       "      <td>NaN</td>\n",
       "      <td>NaN</td>\n",
       "      <td>NaN</td>\n",
       "      <td>NaN</td>\n",
       "      <td>NaN</td>\n",
       "      <td>NaN</td>\n",
       "      <td>NaN</td>\n",
       "      <td>NaN</td>\n",
       "    </tr>\n",
       "    <tr>\n",
       "      <th>727</th>\n",
       "      <td>GHCND:USW00024233</td>\n",
       "      <td>SEATTLE TACOMA INTERNATIONAL AIRPORT WA US</td>\n",
       "      <td>20141230.0</td>\n",
       "      <td>0.0</td>\n",
       "      <td>0.0</td>\n",
       "      <td>0.0</td>\n",
       "      <td>33.0</td>\n",
       "      <td>-21.0</td>\n",
       "      <td>36.0</td>\n",
       "      <td>90.0</td>\n",
       "      <td>70.0</td>\n",
       "      <td>63.0</td>\n",
       "      <td>76.0</td>\n",
       "      <td>-9999.0</td>\n",
       "      <td>-9999.0</td>\n",
       "      <td>-9999.0</td>\n",
       "      <td>-9999.0</td>\n",
       "    </tr>\n",
       "    <tr>\n",
       "      <th>728</th>\n",
       "      <td>NaN</td>\n",
       "      <td>NaN</td>\n",
       "      <td>NaN</td>\n",
       "      <td>NaN</td>\n",
       "      <td>NaN</td>\n",
       "      <td>NaN</td>\n",
       "      <td>NaN</td>\n",
       "      <td>NaN</td>\n",
       "      <td>NaN</td>\n",
       "      <td>NaN</td>\n",
       "      <td>NaN</td>\n",
       "      <td>NaN</td>\n",
       "      <td>NaN</td>\n",
       "      <td>NaN</td>\n",
       "      <td>NaN</td>\n",
       "      <td>NaN</td>\n",
       "      <td>NaN</td>\n",
       "    </tr>\n",
       "    <tr>\n",
       "      <th>729</th>\n",
       "      <td>GHCND:USW00024233</td>\n",
       "      <td>SEATTLE TACOMA INTERNATIONAL AIRPORT WA US</td>\n",
       "      <td>20141231.0</td>\n",
       "      <td>0.0</td>\n",
       "      <td>0.0</td>\n",
       "      <td>0.0</td>\n",
       "      <td>33.0</td>\n",
       "      <td>-27.0</td>\n",
       "      <td>30.0</td>\n",
       "      <td>30.0</td>\n",
       "      <td>-9999.0</td>\n",
       "      <td>58.0</td>\n",
       "      <td>-9999.0</td>\n",
       "      <td>-9999.0</td>\n",
       "      <td>-9999.0</td>\n",
       "      <td>-9999.0</td>\n",
       "      <td>-9999.0</td>\n",
       "    </tr>\n",
       "  </tbody>\n",
       "</table>\n",
       "<p>730 rows × 17 columns</p>\n",
       "</div>"
      ],
      "text/plain": [
       "               STATION                                STATION_NAME  \\\n",
       "0                  NaN                                         NaN   \n",
       "1    GHCND:USW00024233  SEATTLE TACOMA INTERNATIONAL AIRPORT WA US   \n",
       "2                  NaN                                         NaN   \n",
       "3    GHCND:USW00024233  SEATTLE TACOMA INTERNATIONAL AIRPORT WA US   \n",
       "4                  NaN                                         NaN   \n",
       "..                 ...                                         ...   \n",
       "725  GHCND:USW00024233  SEATTLE TACOMA INTERNATIONAL AIRPORT WA US   \n",
       "726                NaN                                         NaN   \n",
       "727  GHCND:USW00024233  SEATTLE TACOMA INTERNATIONAL AIRPORT WA US   \n",
       "728                NaN                                         NaN   \n",
       "729  GHCND:USW00024233  SEATTLE TACOMA INTERNATIONAL AIRPORT WA US   \n",
       "\n",
       "           DATE  PRCP  SNWD  SNOW   TMAX  TMIN  AWND   WDF2    WDF5  WSF2  \\\n",
       "0           NaN   NaN   NaN   NaN    NaN   NaN   NaN    NaN     NaN   NaN   \n",
       "1    20140101.0   0.0   0.0   0.0   72.0  33.0  12.0  340.0   310.0  36.0   \n",
       "2           NaN   NaN   NaN   NaN    NaN   NaN   NaN    NaN     NaN   NaN   \n",
       "3    20140102.0  41.0   0.0   0.0  106.0  61.0  32.0  190.0   200.0  94.0   \n",
       "4           NaN   NaN   NaN   NaN    NaN   NaN   NaN    NaN     NaN   NaN   \n",
       "..          ...   ...   ...   ...    ...   ...   ...    ...     ...   ...   \n",
       "725  20141229.0   0.0   0.0   0.0   61.0   6.0  43.0  350.0   350.0  76.0   \n",
       "726         NaN   NaN   NaN   NaN    NaN   NaN   NaN    NaN     NaN   NaN   \n",
       "727  20141230.0   0.0   0.0   0.0   33.0 -21.0  36.0   90.0    70.0  63.0   \n",
       "728         NaN   NaN   NaN   NaN    NaN   NaN   NaN    NaN     NaN   NaN   \n",
       "729  20141231.0   0.0   0.0   0.0   33.0 -27.0  30.0   30.0 -9999.0  58.0   \n",
       "\n",
       "       WSF5    WT01    WT05    WT02    WT03  \n",
       "0       NaN     NaN     NaN     NaN     NaN  \n",
       "1      40.0 -9999.0 -9999.0 -9999.0 -9999.0  \n",
       "2       NaN     NaN     NaN     NaN     NaN  \n",
       "3     116.0 -9999.0 -9999.0 -9999.0 -9999.0  \n",
       "4       NaN     NaN     NaN     NaN     NaN  \n",
       "..      ...     ...     ...     ...     ...  \n",
       "725   103.0     1.0 -9999.0 -9999.0 -9999.0  \n",
       "726     NaN     NaN     NaN     NaN     NaN  \n",
       "727    76.0 -9999.0 -9999.0 -9999.0 -9999.0  \n",
       "728     NaN     NaN     NaN     NaN     NaN  \n",
       "729 -9999.0 -9999.0 -9999.0 -9999.0 -9999.0  \n",
       "\n",
       "[730 rows x 17 columns]"
      ]
     },
     "execution_count": 8,
     "metadata": {},
     "output_type": "execute_result"
    }
   ],
   "source": [
    "import pandas as pd\n",
    "seattle=pd.read_csv('C:\\\\Users\\\\User\\\\Desktop\\\\Datasets\\\\Seattle2014.csv')\n",
    "seattle"
   ]
  },
  {
   "cell_type": "code",
   "execution_count": 9,
   "metadata": {},
   "outputs": [
    {
     "data": {
      "text/plain": [
       "array([ nan,   0.,  nan,  41.,  nan,  15.,  nan,   0.,  nan,   0.,  nan,\n",
       "         3.,  nan, 122.,  nan,  97.,  nan,  58.,  nan,  43.,  nan, 213.,\n",
       "        nan,  15.,  nan,   0.,  nan,   0.,  nan,   0.,  nan,   0.,  nan,\n",
       "         0.,  nan,   0.,  nan,   0.,  nan,   0.,  nan,   0.,  nan,   5.,\n",
       "        nan,   0.,  nan,   0.,  nan,   0.,  nan,   0.,  nan,   0.,  nan,\n",
       "        89.,  nan, 216.,  nan,   0.,  nan,  23.,  nan,  20.,  nan,   0.,\n",
       "        nan,   0.,  nan,   0.,  nan,   0.,  nan,   0.,  nan,   0.,  nan,\n",
       "        51.,  nan,   5.,  nan, 183.,  nan, 170.,  nan,  46.,  nan,  18.,\n",
       "        nan,  94.,  nan, 117.,  nan, 264.,  nan, 145.,  nan, 152.,  nan,\n",
       "        10.,  nan,  30.,  nan,  28.,  nan,  25.,  nan,  61.,  nan, 130.,\n",
       "        nan,   3.,  nan,   0.,  nan,   0.,  nan,   0.,  nan,   5.,  nan,\n",
       "       191.,  nan, 107.,  nan, 165.,  nan, 467.,  nan,  30.,  nan,   0.,\n",
       "        nan, 323.,  nan,  43.,  nan, 188.,  nan,   0.,  nan,   0.,  nan,\n",
       "         5.,  nan,  69.,  nan,  81.,  nan, 277.,  nan,   3.,  nan,   0.,\n",
       "        nan,   5.,  nan,   0.,  nan,   0.,  nan,   0.,  nan,   0.,  nan,\n",
       "         0.,  nan,  41.,  nan,  36.,  nan,   3.,  nan, 221.,  nan, 140.,\n",
       "        nan,   0.,  nan,   0.,  nan,   0.,  nan,   0.,  nan,  25.,  nan,\n",
       "         0.,  nan,  46.,  nan,   0.,  nan,   0.,  nan,  46.,  nan,   0.,\n",
       "        nan,   0.,  nan,   0.,  nan,   0.,  nan,   0.,  nan,   0.,  nan,\n",
       "         5.,  nan, 109.,  nan, 185.,  nan,   0.,  nan, 137.,  nan,   0.,\n",
       "        nan,  51.,  nan, 142.,  nan,  89.,  nan, 124.,  nan,   0.,  nan,\n",
       "        33.,  nan,  69.,  nan,   0.,  nan,   0.,  nan,   0.,  nan,   0.,\n",
       "        nan,   0.,  nan, 333.,  nan, 160.,  nan,  51.,  nan,   0.,  nan,\n",
       "         0.,  nan, 137.,  nan,  20.,  nan,   5.,  nan,   0.,  nan,   0.,\n",
       "        nan,   0.,  nan,   0.,  nan,   0.,  nan,   0.,  nan,   0.,  nan,\n",
       "         0.,  nan,   0.,  nan,   0.,  nan,   0.,  nan,   0.,  nan,  38.,\n",
       "        nan,   0.,  nan,  56.,  nan,   0.,  nan,   0.,  nan,   0.,  nan,\n",
       "         0.,  nan,   0.,  nan,   0.,  nan,   0.,  nan,   0.,  nan,   0.,\n",
       "        nan,   0.,  nan,   0.,  nan,   0.,  nan,   0.,  nan,   0.,  nan,\n",
       "         0.,  nan,   0.,  nan,   0.,  nan,  18.,  nan,  64.,  nan,   0.,\n",
       "        nan,   5.,  nan,  36.,  nan,  13.,  nan,   0.,  nan,   8.,  nan,\n",
       "         3.,  nan,   0.,  nan,   0.,  nan,   0.,  nan,   0.,  nan,   0.,\n",
       "        nan,   0.,  nan,  18.,  nan,  23.,  nan,   0.,  nan,   0.,  nan,\n",
       "         0.,  nan,   0.,  nan,   0.,  nan,   0.,  nan,   0.,  nan,   0.,\n",
       "        nan,   0.,  nan,   0.,  nan,   0.,  nan,   0.,  nan,   0.,  nan,\n",
       "         0.,  nan,   0.,  nan,   0.,  nan,   0.,  nan,   0.,  nan,   0.,\n",
       "        nan,   0.,  nan,   0.,  nan,   0.,  nan,   0.,  nan,   3.,  nan,\n",
       "       193.,  nan,   0.,  nan,   0.,  nan,   0.,  nan,   0.,  nan,   0.,\n",
       "        nan,   0.,  nan,   0.,  nan,   0.,  nan,   0.,  nan,   5.,  nan,\n",
       "         0.,  nan,   0.,  nan,   0.,  nan,   0.,  nan,   0.,  nan,   0.,\n",
       "        nan,   0.,  nan,   0.,  nan,   5.,  nan, 127.,  nan, 216.,  nan,\n",
       "         0.,  nan,  10.,  nan,   0.,  nan,   0.,  nan,   0.,  nan,   0.,\n",
       "        nan,   0.,  nan,   0.,  nan,   0.,  nan,   0.,  nan,   0.,  nan,\n",
       "         0.,  nan,   0.,  nan,   0.,  nan,   0.,  nan,   0.,  nan,  84.,\n",
       "        nan,  13.,  nan,   0.,  nan,  30.,  nan,   0.,  nan,   0.,  nan,\n",
       "         0.,  nan,   0.,  nan,   0.,  nan,   0.,  nan,   0.,  nan,   0.,\n",
       "        nan,   0.,  nan,   0.,  nan,   0.,  nan,   0.,  nan,   0.,  nan,\n",
       "         0.,  nan,   5.,  nan,   3.,  nan,   0.,  nan,   0.,  nan,   0.,\n",
       "        nan,   3.,  nan, 183.,  nan, 203.,  nan,  43.,  nan,  89.,  nan,\n",
       "         0.,  nan,   0.,  nan,   8.,  nan,   0.,  nan,   0.,  nan,   0.,\n",
       "        nan,   0.,  nan,   0.,  nan,   0.,  nan,   0.,  nan,   0.,  nan,\n",
       "         0.,  nan,   0.,  nan,   3.,  nan,  74.,  nan,   0.,  nan,  76.,\n",
       "        nan,  71.,  nan,  86.,  nan,   0.,  nan,  33.,  nan, 150.,  nan,\n",
       "         0.,  nan, 117.,  nan,  10.,  nan, 320.,  nan,  94.,  nan,  41.,\n",
       "        nan,  61.,  nan,  15.,  nan,   8.,  nan, 127.,  nan,   5.,  nan,\n",
       "       254.,  nan, 170.,  nan,   0.,  nan,  18.,  nan, 109.,  nan,  41.,\n",
       "        nan,  48.,  nan,  41.,  nan,   0.,  nan,   0.,  nan,  51.,  nan,\n",
       "         0.,  nan,   0.,  nan,   0.,  nan,   0.,  nan,   0.,  nan,   0.,\n",
       "        nan,   0.,  nan,   0.,  nan,   0.,  nan,   0.,  nan,  36.,  nan,\n",
       "       152.,  nan,   5.,  nan, 119.,  nan,  13.,  nan, 183.,  nan,   3.,\n",
       "        nan,  33.,  nan, 343.,  nan,  36.,  nan,   0.,  nan,   0.,  nan,\n",
       "         0.,  nan,   0.,  nan,   8.,  nan,  30.,  nan,  74.,  nan,   0.,\n",
       "        nan,  91.,  nan,  99.,  nan, 130.,  nan,  69.,  nan,   0.,  nan,\n",
       "         0.,  nan,   0.,  nan,   0.,  nan,   0.,  nan,  28.,  nan, 130.,\n",
       "        nan,  30.,  nan, 196.,  nan,   0.,  nan,   0.,  nan, 206.,  nan,\n",
       "        53.,  nan,   0.,  nan,   0.,  nan,  33.,  nan,  41.,  nan,   0.,\n",
       "        nan,   0.,  nan,   0.])"
      ]
     },
     "execution_count": 9,
     "metadata": {},
     "output_type": "execute_result"
    }
   ],
   "source": [
    "rainfall=seattle['PRCP'].values\n",
    "rainfall"
   ]
  },
  {
   "cell_type": "code",
   "execution_count": 10,
   "metadata": {},
   "outputs": [
    {
     "data": {
      "text/plain": [
       "(730,)"
      ]
     },
     "execution_count": 10,
     "metadata": {},
     "output_type": "execute_result"
    }
   ],
   "source": [
    "inches=rainfall/254\n",
    "inches.shape"
   ]
  },
  {
   "cell_type": "code",
   "execution_count": 11,
   "metadata": {},
   "outputs": [
    {
     "name": "stderr",
     "output_type": "stream",
     "text": [
      "Matplotlib is building the font cache; this may take a moment.\n"
     ]
    },
    {
     "data": {
      "image/png": "[encoded data removed]",
      "text/plain": [
       "<Figure size 432x288 with 1 Axes>"
      ]
     },
     "metadata": {},
     "output_type": "display_data"
    }
   ],
   "source": [
    "import matplotlib.pyplot as plt\n",
    "import seaborn ; seaborn.set()\n",
    "val =pd.notna(inches)\n",
    "plt.hist(inches[val], 40);"
   ]
  },
  {
   "cell_type": "code",
   "execution_count": 13,
   "metadata": {},
   "outputs": [
    {
     "data": {
      "text/plain": [
       "array([[5, 0, 3, 3],\n",
       "       [7, 9, 3, 5],\n",
       "       [2, 4, 7, 6]])"
      ]
     },
     "execution_count": 13,
     "metadata": {},
     "output_type": "execute_result"
    }
   ],
   "source": [
    "rng=np.random.RandomState(0)\n",
    "x=rng.randint(10,size=(3,4))\n",
    "x"
   ]
  },
  {
   "cell_type": "markdown",
   "metadata": {},
   "source": [
    "np.less(x>6)\n",
    "x"
   ]
  },
  {
   "cell_type": "code",
   "execution_count": 14,
   "metadata": {},
   "outputs": [
    {
     "data": {
      "text/plain": [
       "array([0.        , 0.16141732, 0.05905512, 0.        , 0.        ,\n",
       "       0.01181102, 0.48031496, 0.38188976, 0.22834646, 0.16929134,\n",
       "       0.83858268, 0.05905512, 0.        , 0.        , 0.        ,\n",
       "       0.        , 0.        , 0.        , 0.        , 0.        ,\n",
       "       0.        , 0.01968504, 0.        , 0.        , 0.        ,\n",
       "       0.        , 0.        , 0.3503937 , 0.8503937 , 0.        ,\n",
       "       0.09055118, 0.07874016, 0.        , 0.        , 0.        ,\n",
       "       0.        , 0.        , 0.        , 0.2007874 , 0.01968504,\n",
       "       0.72047244, 0.66929134, 0.18110236, 0.07086614, 0.37007874,\n",
       "       0.46062992, 1.03937008, 0.57086614, 0.5984252 , 0.03937008,\n",
       "       0.11811024, 0.11023622, 0.0984252 , 0.24015748, 0.51181102,\n",
       "       0.01181102, 0.        , 0.        , 0.        , 0.01968504,\n",
       "       0.7519685 , 0.42125984, 0.6496063 , 1.83858268, 0.11811024,\n",
       "       0.        , 1.27165354, 0.16929134, 0.74015748, 0.        ,\n",
       "       0.        , 0.01968504, 0.27165354, 0.31889764, 1.09055118,\n",
       "       0.01181102, 0.        , 0.01968504, 0.        , 0.        ,\n",
       "       0.        , 0.        , 0.        , 0.16141732, 0.14173228,\n",
       "       0.01181102, 0.87007874, 0.5511811 , 0.        , 0.        ,\n",
       "       0.        , 0.        , 0.0984252 , 0.        , 0.18110236,\n",
       "       0.        , 0.        , 0.18110236, 0.        , 0.        ,\n",
       "       0.        , 0.        , 0.        , 0.        , 0.01968504,\n",
       "       0.42913386, 0.72834646, 0.        , 0.53937008, 0.        ,\n",
       "       0.2007874 , 0.55905512, 0.3503937 , 0.48818898, 0.        ,\n",
       "       0.12992126, 0.27165354, 0.        , 0.        , 0.        ,\n",
       "       0.        , 0.        , 1.31102362, 0.62992126, 0.2007874 ,\n",
       "       0.        , 0.        , 0.53937008, 0.07874016, 0.01968504,\n",
       "       0.        , 0.        , 0.        , 0.        , 0.        ,\n",
       "       0.        , 0.        , 0.        , 0.        , 0.        ,\n",
       "       0.        , 0.        , 0.1496063 , 0.        , 0.22047244,\n",
       "       0.        , 0.        , 0.        , 0.        , 0.        ,\n",
       "       0.        , 0.        , 0.        , 0.        , 0.        ,\n",
       "       0.        , 0.        , 0.        , 0.        , 0.        ,\n",
       "       0.        , 0.        , 0.07086614, 0.2519685 , 0.        ,\n",
       "       0.01968504, 0.14173228, 0.0511811 , 0.        , 0.03149606,\n",
       "       0.01181102, 0.        , 0.        , 0.        , 0.        ,\n",
       "       0.        , 0.        , 0.07086614, 0.09055118, 0.        ,\n",
       "       0.        , 0.        , 0.        , 0.        , 0.        ,\n",
       "       0.        , 0.        , 0.        , 0.        , 0.        ,\n",
       "       0.        , 0.        , 0.        , 0.        , 0.        ,\n",
       "       0.        , 0.        , 0.        , 0.        , 0.        ,\n",
       "       0.        , 0.        , 0.01181102, 0.75984252, 0.        ,\n",
       "       0.        , 0.        , 0.        , 0.        , 0.        ,\n",
       "       0.        , 0.        , 0.        , 0.01968504, 0.        ,\n",
       "       0.        , 0.        , 0.        , 0.        , 0.        ,\n",
       "       0.        , 0.        , 0.01968504, 0.5       , 0.8503937 ,\n",
       "       0.        , 0.03937008, 0.        , 0.        , 0.        ,\n",
       "       0.        , 0.        , 0.        , 0.        , 0.        ,\n",
       "       0.        , 0.        , 0.        , 0.        , 0.        ,\n",
       "       0.        , 0.33070866, 0.0511811 , 0.        , 0.11811024,\n",
       "       0.        , 0.        , 0.        , 0.        , 0.        ,\n",
       "       0.        , 0.        , 0.        , 0.        , 0.        ,\n",
       "       0.        , 0.        , 0.        , 0.        , 0.01968504,\n",
       "       0.01181102, 0.        , 0.        , 0.        , 0.01181102,\n",
       "       0.72047244, 0.7992126 , 0.16929134, 0.3503937 , 0.        ,\n",
       "       0.        , 0.03149606, 0.        , 0.        , 0.        ,\n",
       "       0.        , 0.        , 0.        , 0.        , 0.        ,\n",
       "       0.        , 0.        , 0.01181102, 0.29133858, 0.        ,\n",
       "       0.2992126 , 0.27952756, 0.33858268, 0.        , 0.12992126,\n",
       "       0.59055118, 0.        , 0.46062992, 0.03937008, 1.25984252,\n",
       "       0.37007874, 0.16141732, 0.24015748, 0.05905512, 0.03149606,\n",
       "       0.5       , 0.01968504, 1.        , 0.66929134, 0.        ,\n",
       "       0.07086614, 0.42913386, 0.16141732, 0.18897638, 0.16141732,\n",
       "       0.        , 0.        , 0.2007874 , 0.        , 0.        ,\n",
       "       0.        , 0.        , 0.        , 0.        , 0.        ,\n",
       "       0.        , 0.        , 0.        , 0.14173228, 0.5984252 ,\n",
       "       0.01968504, 0.46850394, 0.0511811 , 0.72047244, 0.01181102,\n",
       "       0.12992126, 1.3503937 , 0.14173228, 0.        , 0.        ,\n",
       "       0.        , 0.        , 0.03149606, 0.11811024, 0.29133858,\n",
       "       0.        , 0.35826772, 0.38976378, 0.51181102, 0.27165354,\n",
       "       0.        , 0.        , 0.        , 0.        , 0.        ,\n",
       "       0.11023622, 0.51181102, 0.11811024, 0.77165354, 0.        ,\n",
       "       0.        , 0.81102362, 0.20866142, 0.        , 0.        ,\n",
       "       0.12992126, 0.16141732, 0.        , 0.        , 0.        ])"
      ]
     },
     "execution_count": 14,
     "metadata": {},
     "output_type": "execute_result"
    }
   ],
   "source": [
    "inches\n",
    "val=pd.notna(inches)\n",
    "inches[val]"
   ]
  },
  {
   "cell_type": "code",
   "execution_count": null,
   "metadata": {},
   "outputs": [],
   "source": []
  }
 ],
 "metadata": {
  "kernelspec": {
   "display_name": "Python 3",
   "language": "python",
   "name": "python3"
  },
  "language_info": {
   "codemirror_mode": {
    "name": "ipython",
    "version": 3
   },
   "file_extension": ".py",
   "mimetype": "text/x-python",
   "name": "python",
   "nbconvert_exporter": "python",
   "pygments_lexer": "ipython3",
   "version": "3.8.5"
  }
 },
 "nbformat": 4,
 "nbformat_minor": 4
}
