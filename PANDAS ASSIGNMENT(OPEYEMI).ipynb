{
 "cells": [
  {
   "cell_type": "code",
   "execution_count": 1,
   "metadata": {},
   "outputs": [],
   "source": [
    "import pandas as pd\n",
    "import numpy as np\n"
   ]
  },
  {
   "cell_type": "code",
   "execution_count": 2,
   "metadata": {},
   "outputs": [],
   "source": [
    "info={'SN1':'ABIA','SN2':'ADAMAWA','SN3':'AKWA-IBOM','SN4':'ANAMBRA','SN5':'BAUCHI','SN6':'BAYELSA','SN7':'BENUE','SN8':'BORNO','SN9':'CROSS-RIVER','SN10':'DELTA','SN11':'EBONYI','SN12':'EDO','SN13':'EKITI','SN14':'ENUGU','SN15':'GOMBE','SN16':'IMO','SN17':'JIGAWA','SN18':'KADUNA','SN19':'KANO','SN20':'KATSINA','SN21':'KEBBI','SN22':'KOGI','SN23':'KWARA','SN24':'LAGOS','SN25':'NASSARAWA','SN26':'NIGER','SN27':'OGUN','SN28':'ONDO','SN29':'OSUN','SN30':'OYO','SN31':'PLATEAU','SN32':'RIVERS','SN33':'SOKOTO','SN34':'TARABA','SN35':'YOBE','SN36':'ZAMFARA','SN37':'FCT'}"
   ]
  },
  {
   "cell_type": "code",
   "execution_count": 3,
   "metadata": {},
   "outputs": [
    {
     "data": {
      "text/plain": [
       "SN1            ABIA\n",
       "SN2         ADAMAWA\n",
       "SN3       AKWA-IBOM\n",
       "SN4         ANAMBRA\n",
       "SN5          BAUCHI\n",
       "SN6         BAYELSA\n",
       "SN7           BENUE\n",
       "SN8           BORNO\n",
       "SN9     CROSS-RIVER\n",
       "SN10          DELTA\n",
       "SN11         EBONYI\n",
       "SN12            EDO\n",
       "SN13          EKITI\n",
       "SN14          ENUGU\n",
       "SN15          GOMBE\n",
       "SN16            IMO\n",
       "SN17         JIGAWA\n",
       "SN18         KADUNA\n",
       "SN19           KANO\n",
       "SN20        KATSINA\n",
       "SN21          KEBBI\n",
       "SN22           KOGI\n",
       "SN23          KWARA\n",
       "SN24          LAGOS\n",
       "SN25      NASSARAWA\n",
       "SN26          NIGER\n",
       "SN27           OGUN\n",
       "SN28           ONDO\n",
       "SN29           OSUN\n",
       "SN30            OYO\n",
       "SN31        PLATEAU\n",
       "SN32         RIVERS\n",
       "SN33         SOKOTO\n",
       "SN34         TARABA\n",
       "SN35           YOBE\n",
       "SN36        ZAMFARA\n",
       "SN37            FCT\n",
       "dtype: object"
      ]
     },
     "execution_count": 3,
     "metadata": {},
     "output_type": "execute_result"
    }
   ],
   "source": [
    "STATES=pd.Series(info)\n",
    "STATES"
   ]
  },
  {
   "cell_type": "code",
   "execution_count": 4,
   "metadata": {},
   "outputs": [],
   "source": [
    "inf={'CN1':'UMUAHIA','CN2':'YOLA','CN3':'UYO','CN4':'AWKA','CN5':'BAUCHI','CN6':'YENAGOA','CN7':'MAKURDI','CN8':'MAIDUGURI','CN9':'CALABAR','CN10':'ASABA','CN11':'ABAKALIKI','CN12':'BENIN','CN13':'ADO-EKITI','CN14':'ENUGU','CN15':'GOMBE','CN16':'OWERRI','CN17':'DUTSE','CN18':'KADUNA','CN19':'KANO','CN20':'KATSINA','CN21':'BIRNIN-KEBBI','CN22':'LOKOJA','CN23':'ILORIN','CN24':'IKEJA','CN25':'LAFIA','CN26':'MINNA','CN27':'ABEOKUTA','CN28':'AKURE','CN29':'OSOGBO','CN30':'IBADAN','CN31':'JOS','CN32':'POT-HARCOURT','CN33':'SOKOTO','CN34':'JALINGO','CN35':'DAMATURU','CN36':'GUSAU','CN37':'ABUJA'}"
   ]
  },
  {
   "cell_type": "code",
   "execution_count": 5,
   "metadata": {},
   "outputs": [
    {
     "data": {
      "text/plain": [
       "CN1          UMUAHIA\n",
       "CN2             YOLA\n",
       "CN3              UYO\n",
       "CN4             AWKA\n",
       "CN5           BAUCHI\n",
       "CN6          YENAGOA\n",
       "CN7          MAKURDI\n",
       "CN8        MAIDUGURI\n",
       "CN9          CALABAR\n",
       "CN10           ASABA\n",
       "CN11       ABAKALIKI\n",
       "CN12           BENIN\n",
       "CN13       ADO-EKITI\n",
       "CN14           ENUGU\n",
       "CN15           GOMBE\n",
       "CN16          OWERRI\n",
       "CN17           DUTSE\n",
       "CN18          KADUNA\n",
       "CN19            KANO\n",
       "CN20         KATSINA\n",
       "CN21    BIRNIN-KEBBI\n",
       "CN22          LOKOJA\n",
       "CN23          ILORIN\n",
       "CN24           IKEJA\n",
       "CN25           LAFIA\n",
       "CN26           MINNA\n",
       "CN27        ABEOKUTA\n",
       "CN28           AKURE\n",
       "CN29          OSOGBO\n",
       "CN30          IBADAN\n",
       "CN31             JOS\n",
       "CN32    POT-HARCOURT\n",
       "CN33          SOKOTO\n",
       "CN34         JALINGO\n",
       "CN35        DAMATURU\n",
       "CN36           GUSAU\n",
       "CN37           ABUJA\n",
       "dtype: object"
      ]
     },
     "execution_count": 5,
     "metadata": {},
     "output_type": "execute_result"
    }
   ],
   "source": [
    "CAPITALS=pd.Series(inf)\n",
    "CAPITALS"
   ]
  },
  {
   "cell_type": "code",
   "execution_count": 6,
   "metadata": {},
   "outputs": [],
   "source": [
    "ind={'PN1':2833999,'PN2':3168101,'PN3':3920208,'PN4':4182032,'PN5':4676465,'PN6':1703358,'PN7':4219244,'PN8':4151193,'PN9':2888966,'PN10':4098391,'PN11':2173501,'PN12':3218332,'PN13':2384212,'PN14':3257298,'PN15':2353879,'PN16':3934899,'PN17':4348649,'PN18':6066562,'PN19':9383682,'PN20':5792578,'PN21':3238628,'PN22':3278487,'PN23':2371089,'PN24':9013534,'PN25':1863275,'PN26':3950249,'PN27':3728098,'PN28':3441024,'PN29':3423535,'PN30':5591589,'PN31':3178712,'PN32':5185400,'PN33':3696999,'PN34':2300736,'PN35':2321591,'PN36':3259846,'PN37':1405201}"
   ]
  },
  {
   "cell_type": "code",
   "execution_count": 7,
   "metadata": {},
   "outputs": [
    {
     "data": {
      "text/plain": [
       "PN1     2833999\n",
       "PN2     3168101\n",
       "PN3     3920208\n",
       "PN4     4182032\n",
       "PN5     4676465\n",
       "PN6     1703358\n",
       "PN7     4219244\n",
       "PN8     4151193\n",
       "PN9     2888966\n",
       "PN10    4098391\n",
       "PN11    2173501\n",
       "PN12    3218332\n",
       "PN13    2384212\n",
       "PN14    3257298\n",
       "PN15    2353879\n",
       "PN16    3934899\n",
       "PN17    4348649\n",
       "PN18    6066562\n",
       "PN19    9383682\n",
       "PN20    5792578\n",
       "PN21    3238628\n",
       "PN22    3278487\n",
       "PN23    2371089\n",
       "PN24    9013534\n",
       "PN25    1863275\n",
       "PN26    3950249\n",
       "PN27    3728098\n",
       "PN28    3441024\n",
       "PN29    3423535\n",
       "PN30    5591589\n",
       "PN31    3178712\n",
       "PN32    5185400\n",
       "PN33    3696999\n",
       "PN34    2300736\n",
       "PN35    2321591\n",
       "PN36    3259846\n",
       "PN37    1405201\n",
       "dtype: int64"
      ]
     },
     "execution_count": 7,
     "metadata": {},
     "output_type": "execute_result"
    }
   ],
   "source": [
    "POPULATION=pd.Series(ind)\n",
    "POPULATION"
   ]
  },
  {
   "cell_type": "code",
   "execution_count": 8,
   "metadata": {},
   "outputs": [],
   "source": [
    "index={'DN1':5420,'DN2':36917,'DN3':6187,'DN4':4844,'DN5':64605,'DN6':10773,'DN7':34059,'DN8':71130,'DN9':21050,'DN10':18050,'DN11':5530,'DN12':17450,'DN13':6353,'DN14':12440,'DN15':18768,'DN16':5430,'DN17':22605,'DN18':43460,'DN19':20680,'DN20':26785,'DN21':41855,'DN22':32440,'DN23':37700,'DN24':3345,'DN25':27117,'DN26':13930,'DN27':16762,'DN28':14606,'DN29':10245,'DN30':27460,'DN31':58030,'DN32':11077,'DN33':25973,'DN34':55920,'DN35':45270,'DN36':39762,'DN37':7315}"
   ]
  },
  {
   "cell_type": "code",
   "execution_count": 9,
   "metadata": {},
   "outputs": [
    {
     "data": {
      "text/plain": [
       "DN1      5420\n",
       "DN2     36917\n",
       "DN3      6187\n",
       "DN4      4844\n",
       "DN5     64605\n",
       "DN6     10773\n",
       "DN7     34059\n",
       "DN8     71130\n",
       "DN9     21050\n",
       "DN10    18050\n",
       "DN11     5530\n",
       "DN12    17450\n",
       "DN13     6353\n",
       "DN14    12440\n",
       "DN15    18768\n",
       "DN16     5430\n",
       "DN17    22605\n",
       "DN18    43460\n",
       "DN19    20680\n",
       "DN20    26785\n",
       "DN21    41855\n",
       "DN22    32440\n",
       "DN23    37700\n",
       "DN24     3345\n",
       "DN25    27117\n",
       "DN26    13930\n",
       "DN27    16762\n",
       "DN28    14606\n",
       "DN29    10245\n",
       "DN30    27460\n",
       "DN31    58030\n",
       "DN32    11077\n",
       "DN33    25973\n",
       "DN34    55920\n",
       "DN35    45270\n",
       "DN36    39762\n",
       "DN37     7315\n",
       "dtype: int64"
      ]
     },
     "execution_count": 9,
     "metadata": {},
     "output_type": "execute_result"
    }
   ],
   "source": [
    "LANDMASS=pd.Series(index)\n",
    "LANDMASS"
   ]
  },
  {
   "cell_type": "code",
   "execution_count": 10,
   "metadata": {},
   "outputs": [],
   "source": [
    "#2 Create a pandas Series objectof state population and landmass using state name as the key for both"
   ]
  },
  {
   "cell_type": "code",
   "execution_count": 11,
   "metadata": {},
   "outputs": [
    {
     "data": {
      "text/plain": [
       "array(['ABIA', 'ADAMAWA', 'AKWA-IBOM', 'ANAMBRA', 'BAUCHI', 'BAYELSA',\n",
       "       'BENUE', 'BORNO', 'CROSS-RIVER', 'DELTA', 'EBONYI', 'EDO', 'EKITI',\n",
       "       'ENUGU', 'GOMBE', 'IMO', 'JIGAWA', 'KADUNA', 'KANO', 'KATSINA',\n",
       "       'KEBBI', 'KOGI', 'KWARA', 'LAGOS', 'NASSARAWA', 'NIGER', 'OGUN',\n",
       "       'ONDO', 'OSUN', 'OYO', 'PLATEAU', 'RIVERS', 'SOKOTO', 'TARABA',\n",
       "       'YOBE', 'ZAMFARA', 'FCT'], dtype=object)"
      ]
     },
     "execution_count": 11,
     "metadata": {},
     "output_type": "execute_result"
    }
   ],
   "source": [
    "key=STATES.values\n",
    "key"
   ]
  },
  {
   "cell_type": "code",
   "execution_count": 12,
   "metadata": {},
   "outputs": [
    {
     "data": {
      "text/plain": [
       "array([2833999, 3168101, 3920208, 4182032, 4676465, 1703358, 4219244,\n",
       "       4151193, 2888966, 4098391, 2173501, 3218332, 2384212, 3257298,\n",
       "       2353879, 3934899, 4348649, 6066562, 9383682, 5792578, 3238628,\n",
       "       3278487, 2371089, 9013534, 1863275, 3950249, 3728098, 3441024,\n",
       "       3423535, 5591589, 3178712, 5185400, 3696999, 2300736, 2321591,\n",
       "       3259846, 1405201], dtype=int64)"
      ]
     },
     "execution_count": 12,
     "metadata": {},
     "output_type": "execute_result"
    }
   ],
   "source": [
    "pop=POPULATION.values\n",
    "pop"
   ]
  },
  {
   "cell_type": "code",
   "execution_count": 13,
   "metadata": {},
   "outputs": [
    {
     "data": {
      "text/plain": [
       "array([ 5420, 36917,  6187,  4844, 64605, 10773, 34059, 71130, 21050,\n",
       "       18050,  5530, 17450,  6353, 12440, 18768,  5430, 22605, 43460,\n",
       "       20680, 26785, 41855, 32440, 37700,  3345, 27117, 13930, 16762,\n",
       "       14606, 10245, 27460, 58030, 11077, 25973, 55920, 45270, 39762,\n",
       "        7315], dtype=int64)"
      ]
     },
     "execution_count": 13,
     "metadata": {},
     "output_type": "execute_result"
    }
   ],
   "source": [
    "land=LANDMASS.values\n",
    "land"
   ]
  },
  {
   "cell_type": "code",
   "execution_count": 30,
   "metadata": {},
   "outputs": [
    {
     "data": {
      "text/plain": [
       "array(['UMUAHIA', 'YOLA', 'UYO', 'AWKA', 'BAUCHI', 'YENAGOA', 'MAKURDI',\n",
       "       'MAIDUGURI', 'CALABAR', 'ASABA', 'ABAKALIKI', 'BENIN', 'ADO-EKITI',\n",
       "       'ENUGU', 'GOMBE', 'OWERRI', 'DUTSE', 'KADUNA', 'KANO', 'KATSINA',\n",
       "       'BIRNIN-KEBBI', 'LOKOJA', 'ILORIN', 'IKEJA', 'LAFIA', 'MINNA',\n",
       "       'ABEOKUTA', 'AKURE', 'OSOGBO', 'IBADAN', 'JOS', 'POT-HARCOURT',\n",
       "       'SOKOTO', 'JALINGO', 'DAMATURU', 'GUSAU', 'ABUJA'], dtype=object)"
      ]
     },
     "execution_count": 30,
     "metadata": {},
     "output_type": "execute_result"
    }
   ],
   "source": [
    "capi=CAPITALS.values\n",
    "capi"
   ]
  },
  {
   "cell_type": "code",
   "execution_count": 14,
   "metadata": {},
   "outputs": [],
   "source": [
    "key2=['ABIA', 'ADAMAWA', 'AKWA-IBOM', 'ANAMBRA', 'BAUCHI', 'BAYELSA',\n",
    "       'BENUE', 'BORNO', 'CROSS-RIVER', 'DELTA', 'EBONYI', 'EDO', 'EKITI',\n",
    "       'ENUGU', 'GOMBE', 'IMO', 'JIGAWA', 'KADUNA', 'KANO', 'KATSINA',\n",
    "       'KEBBI', 'KOGI', 'KWARA', 'LAGOS', 'NASSARAWA', 'NIGER', 'OGUN',\n",
    "       'ONDO', 'OSUN', 'OYO', 'PLATEAU', 'RIVERS', 'SOKOTO', 'TARABA',\n",
    "       'YOBE', 'ZAMFARA', 'FCT']"
   ]
  },
  {
   "cell_type": "code",
   "execution_count": 31,
   "metadata": {},
   "outputs": [],
   "source": [
    "pop2=pd.Series([2833999, 3168101, 3920208, 4182032, 4676465, 1703358, 4219244,\n",
    "       4151193, 2888966, 4098391, 2173501, 3218332, 2384212, 3257298,\n",
    "       2353879, 3934899, 4348649, 6066562, 9383682, 5792578, 3238628,\n",
    "       3278487, 2371089, 9013534, 1863275, 3950249, 3728098, 3441024,\n",
    "       3423535, 5591589, 3178712, 5185400, 3696999, 2300736, 2321591,\n",
    "       3259846, 1405201], index=)"
   ]
  },
  {
   "cell_type": "code",
   "execution_count": 16,
   "metadata": {},
   "outputs": [],
   "source": [
    "landmass2=[ 5420, 36917,  6187,  4844, 64605, 10773, 34059, 71130, 21050,\n",
    "       18050,  5530, 17450,  6353, 12440, 18768,  5430, 22605, 43460,\n",
    "       20680, 26785, 41855, 32440, 37700,  3345, 27117, 13930, 16762,\n",
    "       14606, 10245, 27460, 58030, 11077, 25973, 55920, 45270, 39762,\n",
    "        7315]"
   ]
  },
  {
   "cell_type": "code",
   "execution_count": 28,
   "metadata": {},
   "outputs": [
    {
     "data": {
      "text/plain": [
       "State         [ABIA, ADAMAWA, AKWA-IBOM, ANAMBRA, BAUCHI, BA...\n",
       "Population    0     2833999\n",
       "1     3168101\n",
       "2     3920208\n",
       "3   ...\n",
       "Landmass      [5420, 36917, 6187, 4844, 64605, 10773, 34059,...\n",
       "dtype: object"
      ]
     },
     "execution_count": 28,
     "metadata": {},
     "output_type": "execute_result"
    }
   ],
   "source": [
    "information=({'State':key2,'Population':pop2,'Landmass':landmass2})\n",
    "informate=pd.Series(information)\n",
    "informate"
   ]
  },
  {
   "cell_type": "code",
   "execution_count": null,
   "metadata": {},
   "outputs": [],
   "source": []
  },
  {
   "cell_type": "code",
   "execution_count": null,
   "metadata": {},
   "outputs": [],
   "source": []
  }
 ],
 "metadata": {
  "kernelspec": {
   "display_name": "Python 3",
   "language": "python",
   "name": "python3"
  },
  "language_info": {
   "codemirror_mode": {
    "name": "ipython",
    "version": 3
   },
   "file_extension": ".py",
   "mimetype": "text/x-python",
   "name": "python",
   "nbconvert_exporter": "python",
   "pygments_lexer": "ipython3",
   "version": "3.8.5"
  }
 },
 "nbformat": 4,
 "nbformat_minor": 4
}
